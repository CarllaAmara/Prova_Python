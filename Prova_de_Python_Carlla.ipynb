{
 "cells": [
  {
   "cell_type": "code",
   "execution_count": 1,
   "id": "7ed32977-cea1-48e2-a58d-57c9b90b942f",
   "metadata": {},
   "outputs": [
    {
     "name": "stdin",
     "output_type": "stream",
     "text": [
      "Por favor, digite um número:  47\n"
     ]
    },
    {
     "name": "stdout",
     "output_type": "stream",
     "text": [
      "Você digitou o número: 47.0\n"
     ]
    }
   ],
   "source": [
    "# 1)\tCrie um programação para que o usuário digite um número e, em seguida, exiba em tela o número digitado.\n",
    "\n",
    "def main():\n",
    "    try:\n",
    "        # Solicita que o usuário digite um número\n",
    "        user_input = float(input(\"Por favor, digite um número: \"))\n",
    "        \n",
    "        # Exibe o número digitado pelo usuário\n",
    "        print(f\"Você digitou o número: {user_input}\")\n",
    "    except ValueError:\n",
    "        print(\"O valor digitado não é um número válido. Por favor, tente novamente.\")\n",
    "\n",
    "# Executa a função principal\n",
    "if __name__ == \"__main__\":\n",
    "    main()\n"
   ]
  },
  {
   "cell_type": "code",
   "execution_count": 2,
   "id": "d2d81a91-7e8f-47c9-9a77-fbe1926a4ac2",
   "metadata": {},
   "outputs": [
    {
     "name": "stdout",
     "output_type": "stream",
     "text": [
      "O resultado da soma de 52 mais 106 é: 158\n"
     ]
    }
   ],
   "source": [
    "# 2)\tSome os valores das variáveis num1 e num2: Sendo num1 = 52 e num2 = 106. Por fim exiba em tela o resultado da soma.\n",
    "\n",
    "num1 = 52\n",
    "num2 = 106\n",
    "\n",
    "# Somar num1 e num2\n",
    "sum_result = num1 + num2\n",
    "\n",
    "# Resultado da soma\n",
    "print(\"O resultado da soma de\", num1, \"mais\", num2, \"é:\", sum_result)"
   ]
  },
  {
   "cell_type": "code",
   "execution_count": 3,
   "id": "7ee1fedc-deb8-487f-a59d-d7680cb68811",
   "metadata": {},
   "outputs": [
    {
     "name": "stdout",
     "output_type": "stream",
     "text": [
      "100 é maior que 89\n"
     ]
    }
   ],
   "source": [
    "# 3)\tDadas duas variáveis num1 e num2 com valores 100 e 89, respectivamente, verifique se o valor de num1 é maior que o de num2.\n",
    "\n",
    "num1 = 100\n",
    "num2 = 89\n",
    "\n",
    "# Verifique se num1 é maior que num2\n",
    "if num1 > num2:\n",
    "    print(f\"{num1} é maior que {num2}\")\n",
    "else:\n",
    "    print(f\"{num1} não é maior que {num2}\")"
   ]
  },
  {
   "cell_type": "code",
   "execution_count": 5,
   "id": "97ce1517-e14d-4f06-a54e-806b05d12e19",
   "metadata": {},
   "outputs": [
    {
     "name": "stdin",
     "output_type": "stream",
     "text": [
      "Por favor, digite o primeiro número inteiro:  89\n",
      "Por favor, digite o segundo número inteiro:  65\n"
     ]
    },
    {
     "name": "stdout",
     "output_type": "stream",
     "text": [
      "O primeiro número digitado é o maior!\n"
     ]
    }
   ],
   "source": [
    "# 4)\tCrie duas variáveis com dois valores numéricos inteiros digitados pelo usuário, caso o valor do primeiro número for maior que o do segundo, exiba em tela uma mensagem “o primeiro número digitado é o maior!”, caso contrário, exiba em tela uma mensagem “o segundo número digitado é o maior!”\n",
    "\n",
    "num1 = int(input(\"Por favor, digite o primeiro número inteiro: \"))\n",
    "num2 = int(input(\"Por favor, digite o segundo número inteiro: \"))\n",
    "\n",
    "# Compara os números e exibe a mensagem apropriada\n",
    "if num1 > num2:\n",
    "    print(\"O primeiro número digitado é o maior!\")\n",
    "else:\n",
    "    print(\"O segundo número digitado é o maior!\")"
   ]
  },
  {
   "cell_type": "code",
   "execution_count": 6,
   "id": "f27422a4-35fd-4788-baf8-21d89b1c12f2",
   "metadata": {},
   "outputs": [
    {
     "name": "stdout",
     "output_type": "stream",
     "text": [
      "Tempo restante: 20 segundos\n",
      "Tempo restante: 19 segundos\n",
      "Tempo restante: 18 segundos\n",
      "Tempo restante: 17 segundos\n",
      "Tempo restante: 16 segundos\n",
      "Tempo restante: 15 segundos\n",
      "Tempo restante: 14 segundos\n",
      "Tempo restante: 13 segundos\n",
      "Tempo restante: 12 segundos\n",
      "Tempo restante: 11 segundos\n",
      "Tempo restante: 10 segundos\n",
      "Tempo restante: 9 segundos\n",
      "Tempo restante: 8 segundos\n",
      "Tempo restante: 7 segundos\n",
      "Tempo restante: 6 segundos\n",
      "Tempo restante: 5 segundos\n",
      "Tempo restante: 4 segundos\n",
      "Tempo restante: 3 segundos\n",
      "Tempo restante: 2 segundos\n",
      "Tempo restante: 1 segundos\n",
      "Contagem regressiva finalizada!\n"
     ]
    }
   ],
   "source": [
    "# 5)\tCrie um programa que realiza a contagem regressiva de 20 segundos.\n",
    "\n",
    "import time\n",
    "\n",
    "def contagem_regressiva(segundos):\n",
    "    while segundos > 0:\n",
    "        print(f\"Tempo restante: {segundos} segundos\")\n",
    "        time.sleep(1)\n",
    "        segundos -= 1\n",
    "    print(\"Contagem regressiva finalizada!\")\n",
    "\n",
    "# Executa a contagem regressiva de 20 segundos\n",
    "contagem_regressiva(20)\n"
   ]
  },
  {
   "cell_type": "code",
   "execution_count": null,
   "id": "30425bfb-76a5-489d-936c-056bbace5917",
   "metadata": {},
   "outputs": [],
   "source": []
  }
 ],
 "metadata": {
  "kernelspec": {
   "display_name": "Python 3 (ipykernel)",
   "language": "python",
   "name": "python3"
  },
  "language_info": {
   "codemirror_mode": {
    "name": "ipython",
    "version": 3
   },
   "file_extension": ".py",
   "mimetype": "text/x-python",
   "name": "python",
   "nbconvert_exporter": "python",
   "pygments_lexer": "ipython3",
   "version": "3.11.7"
  }
 },
 "nbformat": 4,
 "nbformat_minor": 5
}
